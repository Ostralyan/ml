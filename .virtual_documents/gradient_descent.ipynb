


! pip install matplotlib
import sys
print(sys.version)


import numpy as np

x_train = np.array([1,2,3,4,5,6,7,8,9,10])
y_train = np.array([9,9,9,9,9,9,9,9,9,9,])

plt.plot(x_train, y_train)
# plt.show()





def linear_regression_model(w, x, b):
    return w*x + b

linear_regression_model(10, 5, 3)





import numpy as np

def cost_function(w, b, x_train, y_train):
    m = x_train.shape[0]
    cost_sum = 0
    for i in range(m):
        cost_sum += (linear_regression_model(w, x_train[i], b) - y_train[i]) ** 2
    return cost_sum / (2 * m)

cost_function(10, 3, np.array([1,2,3,4,5]), np.array([9,9,9,9,9]))





def gradient_descent(x_train, y_train):
    alpha = 0.00001
    w = 25
    b = 25
    m = x_train.shape[0]

    for z in range(10000):
        for i in range(m):
            x_i = x_train[i]
            y_i = y_train[i]
            
            w = w - (alpha * linear_regression_model(w, x_i, b)) * x_i
            b = b - (alpha * linear_regression_model(w, x_i, b))

        print(w)
        print(b)
                     
gradient_descent(np.array([1,2,3,4,5]), np.array([9,9,9,9,9]))



